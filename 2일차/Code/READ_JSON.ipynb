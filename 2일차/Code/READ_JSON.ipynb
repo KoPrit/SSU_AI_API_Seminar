{
 "cells": [
  {
   "cell_type": "code",
   "execution_count": 1,
   "metadata": {},
   "outputs": [],
   "source": [
    "JSON = {'categories': [{'name': 'trans_trainstation', 'score': 0.98828125}], \n",
    "        'color': {'dominantColorForeground': 'Black', 'dominantColorBackground': 'Black',\n",
    "                  'dominantColors': ['Black'], 'accentColor': '484C83', 'isBwImg': False, 'isBWImg': False}, \n",
    "        'description': {'tags': ['train', 'platform', 'station', 'building', 'indoor', 'subway', 'track', 'walking', 'waiting', 'pulling', 'board', 'people', 'man', 'luggage', 'standing', 'holding', 'large', 'woman', 'yellow', 'suitcase'],\n",
    "                        'captions': [{'text': 'people waiting at a train station', 'confidence': 0.8330993278560295}]},\n",
    "        'requestId': '738efa37-d063-489b-9a99-482d7bf857f9', 'metadata': {'width': 600, 'height': 462, 'format': 'Jpeg'}}"
   ]
  },
  {
   "cell_type": "code",
   "execution_count": null,
   "metadata": {},
   "outputs": [],
   "source": []
  }
 ],
 "metadata": {
  "kernelspec": {
   "display_name": "Python 3",
   "language": "python",
   "name": "python3"
  },
  "language_info": {
   "codemirror_mode": {
    "name": "ipython",
    "version": 3
   },
   "file_extension": ".py",
   "mimetype": "text/x-python",
   "name": "python",
   "nbconvert_exporter": "python",
   "pygments_lexer": "ipython3",
   "version": "3.6.3"
  }
 },
 "nbformat": 4,
 "nbformat_minor": 2
}
